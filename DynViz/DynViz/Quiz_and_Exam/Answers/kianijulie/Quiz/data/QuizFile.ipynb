{
 "cells": [
  {
   "cell_type": "code",
   "execution_count": 1,
   "metadata": {
    "collapsed": true
   },
   "outputs": [],
   "source": [
    "import pandas as pd\n",
    "\n",
    "quiz = pd.read_json('nytimes_event_listings.json')"
   ]
  },
  {
   "cell_type": "code",
   "execution_count": 2,
   "metadata": {
    "collapsed": false
   },
   "outputs": [
    {
     "data": {
      "text/plain": [
       "(500, 4)"
      ]
     },
     "execution_count": 2,
     "metadata": {},
     "output_type": "execute_result"
    }
   ],
   "source": [
    "quiz.shape"
   ]
  },
  {
   "cell_type": "code",
   "execution_count": 3,
   "metadata": {
    "collapsed": false
   },
   "outputs": [
    {
     "data": {
      "text/html": [
       "<div>\n",
       "<table border=\"1\" class=\"dataframe\">\n",
       "  <thead>\n",
       "    <tr style=\"text-align: right;\">\n",
       "      <th></th>\n",
       "      <th>copyright</th>\n",
       "      <th>num_results</th>\n",
       "      <th>results</th>\n",
       "      <th>status</th>\n",
       "    </tr>\n",
       "  </thead>\n",
       "  <tbody>\n",
       "    <tr>\n",
       "      <th>0</th>\n",
       "      <td>Copyright (c) 2016 The New York Times Company....</td>\n",
       "      <td>2404</td>\n",
       "      <td>{'last_modified': '2016-09-08T16:51:15.251Z', ...</td>\n",
       "      <td>OK</td>\n",
       "    </tr>\n",
       "    <tr>\n",
       "      <th>1</th>\n",
       "      <td>Copyright (c) 2016 The New York Times Company....</td>\n",
       "      <td>2404</td>\n",
       "      <td>{'last_modified': '2016-09-08T16:49:23.251Z', ...</td>\n",
       "      <td>OK</td>\n",
       "    </tr>\n",
       "    <tr>\n",
       "      <th>2</th>\n",
       "      <td>Copyright (c) 2016 The New York Times Company....</td>\n",
       "      <td>2404</td>\n",
       "      <td>{'last_modified': '2016-09-08T16:47:18.251Z', ...</td>\n",
       "      <td>OK</td>\n",
       "    </tr>\n",
       "    <tr>\n",
       "      <th>3</th>\n",
       "      <td>Copyright (c) 2016 The New York Times Company....</td>\n",
       "      <td>2404</td>\n",
       "      <td>{'last_modified': '2016-09-08T16:26:31.251Z', ...</td>\n",
       "      <td>OK</td>\n",
       "    </tr>\n",
       "    <tr>\n",
       "      <th>4</th>\n",
       "      <td>Copyright (c) 2016 The New York Times Company....</td>\n",
       "      <td>2404</td>\n",
       "      <td>{'last_modified': '2016-09-08T16:24:32.251Z', ...</td>\n",
       "      <td>OK</td>\n",
       "    </tr>\n",
       "  </tbody>\n",
       "</table>\n",
       "</div>"
      ],
      "text/plain": [
       "                                           copyright  num_results  \\\n",
       "0  Copyright (c) 2016 The New York Times Company....         2404   \n",
       "1  Copyright (c) 2016 The New York Times Company....         2404   \n",
       "2  Copyright (c) 2016 The New York Times Company....         2404   \n",
       "3  Copyright (c) 2016 The New York Times Company....         2404   \n",
       "4  Copyright (c) 2016 The New York Times Company....         2404   \n",
       "\n",
       "                                             results status  \n",
       "0  {'last_modified': '2016-09-08T16:51:15.251Z', ...     OK  \n",
       "1  {'last_modified': '2016-09-08T16:49:23.251Z', ...     OK  \n",
       "2  {'last_modified': '2016-09-08T16:47:18.251Z', ...     OK  \n",
       "3  {'last_modified': '2016-09-08T16:26:31.251Z', ...     OK  \n",
       "4  {'last_modified': '2016-09-08T16:24:32.251Z', ...     OK  "
      ]
     },
     "execution_count": 3,
     "metadata": {},
     "output_type": "execute_result"
    }
   ],
   "source": [
    "quiz.head()"
   ]
  },
  {
   "cell_type": "code",
   "execution_count": 4,
   "metadata": {
    "collapsed": true
   },
   "outputs": [],
   "source": [
    "quiz.to_csv('QuizData.csv', header=True)"
   ]
  },
  {
   "cell_type": "code",
   "execution_count": null,
   "metadata": {
    "collapsed": true
   },
   "outputs": [],
   "source": []
  }
 ],
 "metadata": {
  "kernelspec": {
   "display_name": "Python 3",
   "language": "python",
   "name": "python3"
  },
  "language_info": {
   "codemirror_mode": {
    "name": "ipython",
    "version": 3
   },
   "file_extension": ".py",
   "mimetype": "text/x-python",
   "name": "python",
   "nbconvert_exporter": "python",
   "pygments_lexer": "ipython3",
   "version": "3.5.1"
  }
 },
 "nbformat": 4,
 "nbformat_minor": 0
}
