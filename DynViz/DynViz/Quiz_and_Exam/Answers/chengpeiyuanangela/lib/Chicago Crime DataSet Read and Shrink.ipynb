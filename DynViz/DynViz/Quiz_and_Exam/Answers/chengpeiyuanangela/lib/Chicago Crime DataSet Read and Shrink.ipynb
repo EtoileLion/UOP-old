{
 "cells": [
  {
   "cell_type": "markdown",
   "metadata": {},
   "source": [
    "\n",
    "Here is a quick import and export of the Chicago crime stats data set that several of us had used earlier, so that we can easily shrink it, as well as alter it as needed.\n",
    "\n",
    "-----\n",
    "\n",
    "First, some sense of where we're at:\n"
   ]
  },
  {
   "cell_type": "code",
   "execution_count": 10,
   "metadata": {
    "collapsed": false
   },
   "outputs": [
    {
     "data": {
      "text/plain": [
       "'C:\\\\Users\\\\Angie\\\\Documents\\\\ANLT_233_Dynamic\\\\ANLT233-Dynamic_Viz\\\\Lessons'"
      ]
     },
     "execution_count": 10,
     "metadata": {},
     "output_type": "execute_result"
    }
   ],
   "source": [
    "%pwd"
   ]
  },
  {
   "cell_type": "markdown",
   "metadata": {},
   "source": [
    "\n",
    "In other words, if you are also at the top level of the shared GitHub repository for this class **when you launch your iPython Notebook** (and you're using Python3), you can exactly mimic the actions I'm taking here.\n",
    "\n",
    "-----\n",
    "\n",
    "Below I will change directories, and show a listing of what is in the directory.  By the time you are doing the work, there will likely be more files, however the files used here will not change.\n"
   ]
  },
  {
   "cell_type": "code",
   "execution_count": 11,
   "metadata": {
    "collapsed": false
   },
   "outputs": [
    {
     "name": "stdout",
     "output_type": "stream",
     "text": [
      "C:\\Users\\Angie\\Documents\\ANLT_233_Dynamic\\ANLT233-Dynamic_Viz\n",
      "C:\\Users\\Angie\\Documents\\ANLT_233_Dynamic\\ANLT233-Dynamic_Viz\\Lessons\n"
     ]
    }
   ],
   "source": [
    "%cd ..\n",
    "%cd Lessons"
   ]
  },
  {
   "cell_type": "code",
   "execution_count": 12,
   "metadata": {
    "collapsed": false
   },
   "outputs": [
    {
     "name": "stdout",
     "output_type": "stream",
     "text": [
      " Volume in drive C is Windows8_OS\n",
      " Volume Serial Number is B4C7-F861\n",
      "\n",
      " Directory of C:\\Users\\Angie\\Documents\\ANLT_233_Dynamic\\ANLT233-Dynamic_Viz\\Lessons\\data\n",
      "\n",
      "08/31/2016  08:23 PM    <DIR>          .\n",
      "08/31/2016  08:23 PM    <DIR>          ..\n",
      "08/27/2016  10:15 AM         2,076,928 Boundaries - Community Areas (current).geojson\n",
      "08/27/2016  10:15 AM           239,976 Boundaries - Community Areas (current).topojson\n",
      "08/27/2016  10:16 AM        75,580,015 Chicago_crime_dataset.csv\n",
      "08/27/2016  10:17 AM       163,256,928 Chicago_crime_dataset.json\n",
      "08/31/2016  12:43 PM            49,544 LAenergyusage.json\n",
      "08/31/2016  07:50 PM           100,573 mini_Chicago_crime_columns.json\n",
      "08/31/2016  07:50 PM           153,996 mini_Chicago_crime_records.json\n",
      "08/27/2016  10:17 AM             1,641 README.md\n",
      "08/27/2016  10:17 AM    <DIR>          Uganda_shapefiles\n",
      "               8 File(s)    241,459,601 bytes\n",
      "               3 Dir(s)  680,297,861,120 bytes free\n"
     ]
    }
   ],
   "source": [
    "%ls data"
   ]
  },
  {
   "cell_type": "markdown",
   "metadata": {},
   "source": [
    "\n",
    "The data sets that we've used in the path, and that Heather Steich generated, are the `Chicago_crime_dataset.csv` and `Chicago_crime_dataset.json`.\n",
    "\n",
    "-----\n",
    "\n",
    "Here we'll use the JSON format, **because** it is a bit more complex to manage, **and** it allows for more flexibility.\n",
    "\n",
    "(JSON, remember, stands for **J**ava**S**cript **O**bject **N**otation.  Therefore, it is designed to work well with Javascript, which is the language we will primarily use here.  However, as we've discussed before, CSV files are **necessarily** 2-dimensional dataframe-like structures, whereas JSON can have an arbitrary - and inconsistent - depth within elements.)\n",
    "\n",
    "I am purposely choosing the more complex format because I would rather the lesson focus upon harder things, not easier.\n"
   ]
  },
  {
   "cell_type": "code",
   "execution_count": 13,
   "metadata": {
    "collapsed": false
   },
   "outputs": [],
   "source": [
    "import pandas as pd\n",
    "\n",
    "crime_df = pd.read_json('./data/Chicago_crime_dataset.json')"
   ]
  },
  {
   "cell_type": "code",
   "execution_count": 14,
   "metadata": {
    "collapsed": false
   },
   "outputs": [
    {
     "data": {
      "text/plain": [
       "(297978, 35)"
      ]
     },
     "execution_count": 14,
     "metadata": {},
     "output_type": "execute_result"
    }
   ],
   "source": [
    "crime_df.shape"
   ]
  },
  {
   "cell_type": "code",
   "execution_count": 15,
   "metadata": {
    "collapsed": false
   },
   "outputs": [
    {
     "data": {
      "text/html": [
       "<div>\n",
       "<table border=\"1\" class=\"dataframe\">\n",
       "  <thead>\n",
       "    <tr style=\"text-align: right;\">\n",
       "      <th></th>\n",
       "      <th>Area Per Capita Income</th>\n",
       "      <th>Area Prop Age&lt;18 or Age&gt;64</th>\n",
       "      <th>Area Prop Age&gt;16 Unemployed</th>\n",
       "      <th>Area Prop Age&gt;25 w/o HS Diploma</th>\n",
       "      <th>Area Prop Households Below Poverty</th>\n",
       "      <th>Area Prop Housing Crowded</th>\n",
       "      <th>Arrest</th>\n",
       "      <th>CA Name</th>\n",
       "      <th>CST</th>\n",
       "      <th>Cloud Cover</th>\n",
       "      <th>...</th>\n",
       "      <th>Max Visibility Miles</th>\n",
       "      <th>Max Wind MPH</th>\n",
       "      <th>Min DewPtF</th>\n",
       "      <th>Min Humidity</th>\n",
       "      <th>Min Sea Lvl PresIn</th>\n",
       "      <th>Min TempF</th>\n",
       "      <th>Min Visibility Miles</th>\n",
       "      <th>PrecipIn</th>\n",
       "      <th>Primary Type</th>\n",
       "      <th>Public Transit Rides</th>\n",
       "    </tr>\n",
       "  </thead>\n",
       "  <tbody>\n",
       "    <tr>\n",
       "      <th>0</th>\n",
       "      <td>13089</td>\n",
       "      <td>0.393</td>\n",
       "      <td>0.139</td>\n",
       "      <td>0.451</td>\n",
       "      <td>0.236</td>\n",
       "      <td>0.144</td>\n",
       "      <td>0</td>\n",
       "      <td>Brighton Park</td>\n",
       "      <td>1325376000000</td>\n",
       "      <td>7</td>\n",
       "      <td>...</td>\n",
       "      <td>10</td>\n",
       "      <td>33</td>\n",
       "      <td>16</td>\n",
       "      <td>56</td>\n",
       "      <td>29.52</td>\n",
       "      <td>29</td>\n",
       "      <td>2</td>\n",
       "      <td>0.04</td>\n",
       "      <td>BATTERY</td>\n",
       "      <td>227947</td>\n",
       "    </tr>\n",
       "    <tr>\n",
       "      <th>1</th>\n",
       "      <td>65526</td>\n",
       "      <td>0.135</td>\n",
       "      <td>0.057</td>\n",
       "      <td>0.031</td>\n",
       "      <td>0.147</td>\n",
       "      <td>0.015</td>\n",
       "      <td>1</td>\n",
       "      <td>Loop</td>\n",
       "      <td>1325376000000</td>\n",
       "      <td>7</td>\n",
       "      <td>...</td>\n",
       "      <td>10</td>\n",
       "      <td>33</td>\n",
       "      <td>16</td>\n",
       "      <td>56</td>\n",
       "      <td>29.52</td>\n",
       "      <td>29</td>\n",
       "      <td>2</td>\n",
       "      <td>0.04</td>\n",
       "      <td>BATTERY</td>\n",
       "      <td>227947</td>\n",
       "    </tr>\n",
       "    <tr>\n",
       "      <th>10</th>\n",
       "      <td>12961</td>\n",
       "      <td>0.432</td>\n",
       "      <td>0.196</td>\n",
       "      <td>0.213</td>\n",
       "      <td>0.424</td>\n",
       "      <td>0.082</td>\n",
       "      <td>1</td>\n",
       "      <td>East Garfield Park</td>\n",
       "      <td>1325376000000</td>\n",
       "      <td>7</td>\n",
       "      <td>...</td>\n",
       "      <td>10</td>\n",
       "      <td>33</td>\n",
       "      <td>16</td>\n",
       "      <td>56</td>\n",
       "      <td>29.52</td>\n",
       "      <td>29</td>\n",
       "      <td>2</td>\n",
       "      <td>0.04</td>\n",
       "      <td>BATTERY</td>\n",
       "      <td>227947</td>\n",
       "    </tr>\n",
       "    <tr>\n",
       "      <th>100</th>\n",
       "      <td>71551</td>\n",
       "      <td>0.215</td>\n",
       "      <td>0.051</td>\n",
       "      <td>0.036</td>\n",
       "      <td>0.123</td>\n",
       "      <td>0.008</td>\n",
       "      <td>0</td>\n",
       "      <td>Lincoln Park</td>\n",
       "      <td>1325376000000</td>\n",
       "      <td>7</td>\n",
       "      <td>...</td>\n",
       "      <td>10</td>\n",
       "      <td>33</td>\n",
       "      <td>16</td>\n",
       "      <td>56</td>\n",
       "      <td>29.52</td>\n",
       "      <td>29</td>\n",
       "      <td>2</td>\n",
       "      <td>0.04</td>\n",
       "      <td>CRIMINAL DAMAGE</td>\n",
       "      <td>227947</td>\n",
       "    </tr>\n",
       "    <tr>\n",
       "      <th>1000</th>\n",
       "      <td>15957</td>\n",
       "      <td>0.379</td>\n",
       "      <td>0.226</td>\n",
       "      <td>0.244</td>\n",
       "      <td>0.286</td>\n",
       "      <td>0.063</td>\n",
       "      <td>0</td>\n",
       "      <td>Austin</td>\n",
       "      <td>1325376000000</td>\n",
       "      <td>7</td>\n",
       "      <td>...</td>\n",
       "      <td>10</td>\n",
       "      <td>33</td>\n",
       "      <td>16</td>\n",
       "      <td>56</td>\n",
       "      <td>29.52</td>\n",
       "      <td>29</td>\n",
       "      <td>2</td>\n",
       "      <td>0.04</td>\n",
       "      <td>THEFT</td>\n",
       "      <td>227947</td>\n",
       "    </tr>\n",
       "  </tbody>\n",
       "</table>\n",
       "<p>5 rows × 35 columns</p>\n",
       "</div>"
      ],
      "text/plain": [
       "      Area Per Capita Income  Area Prop Age<18 or Age>64  \\\n",
       "0                      13089                       0.393   \n",
       "1                      65526                       0.135   \n",
       "10                     12961                       0.432   \n",
       "100                    71551                       0.215   \n",
       "1000                   15957                       0.379   \n",
       "\n",
       "      Area Prop Age>16 Unemployed  Area Prop Age>25 w/o HS Diploma  \\\n",
       "0                           0.139                            0.451   \n",
       "1                           0.057                            0.031   \n",
       "10                          0.196                            0.213   \n",
       "100                         0.051                            0.036   \n",
       "1000                        0.226                            0.244   \n",
       "\n",
       "      Area Prop Households Below Poverty  Area Prop Housing Crowded  Arrest  \\\n",
       "0                                  0.236                      0.144       0   \n",
       "1                                  0.147                      0.015       1   \n",
       "10                                 0.424                      0.082       1   \n",
       "100                                0.123                      0.008       0   \n",
       "1000                               0.286                      0.063       0   \n",
       "\n",
       "                 CA Name            CST  Cloud Cover         ...           \\\n",
       "0          Brighton Park  1325376000000            7         ...            \n",
       "1                   Loop  1325376000000            7         ...            \n",
       "10    East Garfield Park  1325376000000            7         ...            \n",
       "100         Lincoln Park  1325376000000            7         ...            \n",
       "1000              Austin  1325376000000            7         ...            \n",
       "\n",
       "      Max Visibility Miles Max Wind MPH Min DewPtF Min Humidity  \\\n",
       "0                       10           33         16           56   \n",
       "1                       10           33         16           56   \n",
       "10                      10           33         16           56   \n",
       "100                     10           33         16           56   \n",
       "1000                    10           33         16           56   \n",
       "\n",
       "      Min Sea Lvl PresIn Min TempF  Min Visibility Miles  PrecipIn  \\\n",
       "0                  29.52        29                     2      0.04   \n",
       "1                  29.52        29                     2      0.04   \n",
       "10                 29.52        29                     2      0.04   \n",
       "100                29.52        29                     2      0.04   \n",
       "1000               29.52        29                     2      0.04   \n",
       "\n",
       "         Primary Type Public Transit Rides  \n",
       "0             BATTERY               227947  \n",
       "1             BATTERY               227947  \n",
       "10            BATTERY               227947  \n",
       "100   CRIMINAL DAMAGE               227947  \n",
       "1000            THEFT               227947  \n",
       "\n",
       "[5 rows x 35 columns]"
      ]
     },
     "execution_count": 15,
     "metadata": {},
     "output_type": "execute_result"
    }
   ],
   "source": [
    "crime_df.head()"
   ]
  },
  {
   "cell_type": "code",
   "execution_count": 16,
   "metadata": {
    "collapsed": false
   },
   "outputs": [
    {
     "data": {
      "text/plain": [
       "Area Per Capita Income                       float64\n",
       "Area Prop Age<18 or Age>64                   float64\n",
       "Area Prop Age>16 Unemployed                  float64\n",
       "Area Prop Age>25 w/o HS Diploma              float64\n",
       "Area Prop Households Below Poverty           float64\n",
       "Area Prop Housing Crowded                    float64\n",
       "Arrest                                         int64\n",
       "CA Name                                       object\n",
       "CST                                            int64\n",
       "Cloud Cover                                    int64\n",
       "Community Area                                 int64\n",
       "Date                                  datetime64[ns]\n",
       "Day of Week                                   object\n",
       "Description                                   object\n",
       "Domestic                                       int64\n",
       "Events                                        object\n",
       "Hardship Index                               float64\n",
       "ID                                             int64\n",
       "Latitude                                     float64\n",
       "Location Description                          object\n",
       "Longitude                                    float64\n",
       "Max Dew PtF                                    int64\n",
       "Max Humidity                                   int64\n",
       "Max Sea Lvl PresIn                           float64\n",
       "Max TempF                                      int64\n",
       "Max Visibility Miles                           int64\n",
       "Max Wind MPH                                   int64\n",
       "Min DewPtF                                     int64\n",
       "Min Humidity                                   int64\n",
       "Min Sea Lvl PresIn                           float64\n",
       "Min TempF                                      int64\n",
       "Min Visibility Miles                           int64\n",
       "PrecipIn                                      object\n",
       "Primary Type                                  object\n",
       "Public Transit Rides                           int64\n",
       "dtype: object"
      ]
     },
     "execution_count": 16,
     "metadata": {},
     "output_type": "execute_result"
    }
   ],
   "source": [
    "crime_df.dtypes"
   ]
  },
  {
   "cell_type": "markdown",
   "metadata": {},
   "source": [
    "\n",
    "Yep, it's that really big data set which Heather created for the earlier visualizations class.\n"
   ]
  },
  {
   "cell_type": "markdown",
   "metadata": {},
   "source": [
    "\n",
    "-----\n",
    "\n",
    "Let's make a smaller subset to work with for our dynamic visualizations, but not as tiny as what you'll find in the examples within either of the books ([*D3.js in Action*](https://www.manning.com/books/d3-js-in-action) or [*Interactive Data Visualization (for the web)*](http://chimera.labs.oreilly.com/books/1230000000345).  My biggest issue with both of these books is that the data sets they use are so tiny and simple that it does not lend itself easily to real world situations you will come across.\n",
    "\n",
    "Here, let's keep the following columns:\n",
    "\n",
    " - CA Name\n",
    " - Primary Type\n",
    " - Arrest\n",
    " - Area Per Capita Income\n",
    " - Area Prop Age>16 Unemployed\n",
    " - Area Prop Households Below Poverty\n",
    " - Hardship Index\n",
    "\n",
    "Why these columns?\n",
    "\n",
    " - To keep the data set simple enough to be able to see and understand all of the information on each observation easily, and because:  CA Name is the level of granularity (it is the neighborhood name), Primary Type is the type of crime, Arrest is whether or not an arrest was made, and the remaining columns capture a few salient characteristics of the neighborhood\n",
    "\n",
    "-----\n",
    "\n",
    "Next, let's keep only 10 observations (or records or rows) per neighborhood.  Why?\n",
    "\n",
    " - We want an even sampling between neighborhoods.\n",
    " - We want the data set to be small enough that once visualizations are moving and dynamic, we don't see severe lag and slow down.\n",
    "     - There are ways to make visualizations run more quickly, such as using the [HTML Canvas Element](http://www.w3schools.com/html/html5_canvas.asp) that the *D3.js in Action* book recommends, but we will not worry about speed issues for the moment, and simply shrink our data set so that we will not have significant lag.\n",
    "\n",
    "\n"
   ]
  },
  {
   "cell_type": "code",
   "execution_count": 17,
   "metadata": {
    "collapsed": false
   },
   "outputs": [
    {
     "data": {
      "text/html": [
       "<div>\n",
       "<table border=\"1\" class=\"dataframe\">\n",
       "  <thead>\n",
       "    <tr style=\"text-align: right;\">\n",
       "      <th></th>\n",
       "      <th>CA Name</th>\n",
       "      <th>Primary Type</th>\n",
       "      <th>Arrest</th>\n",
       "      <th>Area Per Capita Income</th>\n",
       "      <th>Area Prop Age&gt;16 Unemployed</th>\n",
       "      <th>Area Prop Households Below Poverty</th>\n",
       "      <th>Hardship Index</th>\n",
       "    </tr>\n",
       "  </thead>\n",
       "  <tbody>\n",
       "    <tr>\n",
       "      <th>0</th>\n",
       "      <td>Brighton Park</td>\n",
       "      <td>BATTERY</td>\n",
       "      <td>0</td>\n",
       "      <td>13089</td>\n",
       "      <td>0.139</td>\n",
       "      <td>0.236</td>\n",
       "      <td>84</td>\n",
       "    </tr>\n",
       "    <tr>\n",
       "      <th>1</th>\n",
       "      <td>Loop</td>\n",
       "      <td>BATTERY</td>\n",
       "      <td>1</td>\n",
       "      <td>65526</td>\n",
       "      <td>0.057</td>\n",
       "      <td>0.147</td>\n",
       "      <td>3</td>\n",
       "    </tr>\n",
       "    <tr>\n",
       "      <th>10</th>\n",
       "      <td>East Garfield Park</td>\n",
       "      <td>BATTERY</td>\n",
       "      <td>1</td>\n",
       "      <td>12961</td>\n",
       "      <td>0.196</td>\n",
       "      <td>0.424</td>\n",
       "      <td>83</td>\n",
       "    </tr>\n",
       "    <tr>\n",
       "      <th>100</th>\n",
       "      <td>Lincoln Park</td>\n",
       "      <td>CRIMINAL DAMAGE</td>\n",
       "      <td>0</td>\n",
       "      <td>71551</td>\n",
       "      <td>0.051</td>\n",
       "      <td>0.123</td>\n",
       "      <td>2</td>\n",
       "    </tr>\n",
       "  </tbody>\n",
       "</table>\n",
       "</div>"
      ],
      "text/plain": [
       "                CA Name     Primary Type  Arrest  Area Per Capita Income  \\\n",
       "0         Brighton Park          BATTERY       0                   13089   \n",
       "1                  Loop          BATTERY       1                   65526   \n",
       "10   East Garfield Park          BATTERY       1                   12961   \n",
       "100        Lincoln Park  CRIMINAL DAMAGE       0                   71551   \n",
       "\n",
       "     Area Prop Age>16 Unemployed  Area Prop Households Below Poverty  \\\n",
       "0                          0.139                               0.236   \n",
       "1                          0.057                               0.147   \n",
       "10                         0.196                               0.424   \n",
       "100                        0.051                               0.123   \n",
       "\n",
       "     Hardship Index  \n",
       "0                84  \n",
       "1                 3  \n",
       "10               83  \n",
       "100               2  "
      ]
     },
     "execution_count": 17,
     "metadata": {},
     "output_type": "execute_result"
    }
   ],
   "source": [
    "cols_oi = [7,33,6,0,2,4,16] # These are the column numbers of the columns mentioned above.\n",
    "mini_df = crime_df.groupby('CA Name').head(10).iloc[:,cols_oi]\n",
    "mini_df.head(4)"
   ]
  },
  {
   "cell_type": "markdown",
   "metadata": {},
   "source": [
    "\n",
    "Notice above that I simply took the `head(10)` of each neighborhood.  I am presuming that there is no natural ordering of the original data set, so that taking the top 10 of each neighborhood is sufficiently like taking a random sample of each neighborhood.\n",
    "\n",
    "For example / tutorial purposes, this is fine.  For rigorous analysis, ensure random sampling - or even better, [sampling reflecting the population](https://en.wikipedia.org/wiki/Stratified_sampling) - but again, this course is not about statistics.\n",
    "\n",
    "-----\n",
    "\n",
    "Now let's simply \"spit them out\" as JSON files, as discussed above, so that we can start to use them in our D3 files, our beginnings of dynamic visualization.\n"
   ]
  },
  {
   "cell_type": "code",
   "execution_count": 18,
   "metadata": {
    "collapsed": false,
    "scrolled": false
   },
   "outputs": [],
   "source": [
    "mini_df.to_json('./data/mini_Chicago_crime_columns.json', orient='columns')\n",
    "mini_df.to_json('./data/mini_Chicago_crime_records.json', orient='records')"
   ]
  },
  {
   "cell_type": "markdown",
   "metadata": {},
   "source": [
    "\n",
    "Why am I spitting it out in 2 different data formats?  What's the difference between `orient='columns'` (the default), and `orient='records'`?\n",
    "\n",
    "The [`pandas documentation`](http://pandas.pydata.org/pandas-docs/stable/generated/pandas.DataFrame.to_json.html) discusses this, but somewhat crypically, saying:\n",
    "\n",
    " - columns : dict like {column -> {index -> value}}\n",
    " - records : list like [{column -> value}, ... , {column -> value}]\n",
    "\n",
    "-----\n",
    "\n",
    "Let's break down what this is saying.\n",
    "\n",
    "Columns:\n",
    "\n",
    "We'll have a higher level **dictionary**, where the keys will be the columns, and the values will be another dictionary where the keys are the indices and the values are, well, the values.\n",
    "\n",
    "Put another way, each **observation** is identified by the `pandas` dataframe **row index** as the inner key, and each column represents the outer, higher level key.\n",
    "\n",
    "E.g., here's a snippet from our Chicago data:\n",
    "\n",
    "    {\"CA Name\":\n",
    "      {\"0.0\":\"Brighton Park\",\n",
    "       \"1.0\":\"Loop\",\n",
    "       \"10.0\":\"East Garfield Park\",\n",
    "       ...\n",
    "      },\n",
    "     \"Primary Type\":\n",
    "      {\"0.0\":\"BATTERY\",\n",
    "      \"1.0\":\"BATTERY\",\n",
    "      \"10.0\":\"BATTERY\",\n",
    "      ...\n",
    "      },\n",
    "      .\n",
    "      .\n",
    "      .\n",
    "    }\n",
    "\n",
    "-----\n",
    "\n",
    "Records:\n",
    "\n",
    "We'll have a higher level **list**, where each element in the list will consist of an observation.  The list element is a dictionary with the column as the key and its value, again, as the value.\n",
    "\n",
    "E.g., here's a snippet from our Chicago crime data:\n",
    "\n",
    "    [\n",
    "      {\"CA Name\":\"Brighton Park\",\n",
    "       \"Primary Type\":\"BATTERY\",\n",
    "       \"Arrest\":0,\n",
    "       ...\n",
    "      },\n",
    "      {\"CA Name\":\"Loop\",\n",
    "       \"Primary Type\":\"BATTERY\",\n",
    "       \"Arrest\":1,\n",
    "       ...\n",
    "      },\n",
    "      .\n",
    "      .\n",
    "      .\n",
    "    ]\n",
    "\n",
    "\n",
    "-----\n",
    "\n",
    "Why all this hassle with exporting the data and figuring out how to format it?  Since we're more savvy with R / Python, it will be easier to get data **mostly** in the right format in Python or R, and we'll next look on the D3 side of things to see how these 2 JSON format structures look differently within D3 / Javascript.\n",
    "\n",
    "\n"
   ]
  }
 ],
 "metadata": {
  "kernelspec": {
   "display_name": "Python 3",
   "language": "python",
   "name": "python3"
  },
  "language_info": {
   "codemirror_mode": {
    "name": "ipython",
    "version": 3
   },
   "file_extension": ".py",
   "mimetype": "text/x-python",
   "name": "python",
   "nbconvert_exporter": "python",
   "pygments_lexer": "ipython3",
   "version": "3.5.1"
  }
 },
 "nbformat": 4,
 "nbformat_minor": 0
}
